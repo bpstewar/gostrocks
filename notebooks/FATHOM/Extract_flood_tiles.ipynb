{
 "cells": [
  {
   "cell_type": "code",
   "execution_count": 1,
   "id": "29e399a7",
   "metadata": {},
   "outputs": [
    {
     "name": "stderr",
     "output_type": "stream",
     "text": [
      "/home/wb411133/.conda/envs/ee/lib/python3.9/site-packages/geopandas/_compat.py:106: UserWarning: The Shapely GEOS version (3.9.1-CAPI-1.14.2) is incompatible with the GEOS version PyGEOS was compiled with (3.10.4-CAPI-1.16.2). Conversions between both will be slow.\n",
      "  warnings.warn(\n"
     ]
    }
   ],
   "source": [
    "import sys, os, boto3\n",
    "import rasterio\n",
    "\n",
    "import geopandas as gpd\n",
    "import pandas as pd\n",
    "\n",
    "from tqdm.notebook import tqdm\n",
    "from shapely.geometry import box\n",
    "\n",
    "sys.path.insert(0,\"/home/wb411133/Code/gostrocks/src\")\n",
    "\n",
    "import GOSTRocks.rasterMisc as rMisc\n",
    "import GOSTRocks.dataMisc as dataMisc\n",
    "import GOSTRocks.mapMisc as mapMisc"
   ]
  },
  {
   "cell_type": "code",
   "execution_count": 28,
   "id": "efa57703",
   "metadata": {},
   "outputs": [],
   "source": [
    "s3_bucket = 'wbg-geography01'\n",
    "s3_prefix = 'FATHOM/v2023/'\n",
    "\n",
    "s3 = boto3.resource('s3')\n",
    "s3_downloader = boto3.client('s3')"
   ]
  },
  {
   "cell_type": "code",
   "execution_count": 3,
   "id": "05d3ba17",
   "metadata": {},
   "outputs": [],
   "source": [
    "fathom_tile_extents = 's3://wbg-geography01/FATHOM/v2023_support_files/fathom_tile_extents.geojson'\n",
    "fathom_extents = gpd.read_file(fathom_tile_extents)"
   ]
  },
  {
   "cell_type": "code",
   "execution_count": 50,
   "id": "7ba85b89",
   "metadata": {},
   "outputs": [],
   "source": [
    "# define extent by iso3 code\n",
    "sel_iso3 = 'MWI'\n",
    "world_filepath = gpd.datasets.get_path('naturalearth_lowres')\n",
    "world = gpd.read_file(world_filepath)\n",
    "sel_bounds = world.loc[world['iso_a3'] == sel_iso3].unary_union"
   ]
  },
  {
   "cell_type": "code",
   "execution_count": 46,
   "id": "72e10e0a",
   "metadata": {},
   "outputs": [],
   "source": [
    "# Define extent by bounding box [minx, miny, maxx, maxy]\n",
    "#bbox = [176.058746,-10.791870,179.871353,-5.642500]\n",
    "#sel_bounds = box(*bbox)"
   ]
  },
  {
   "cell_type": "code",
   "execution_count": 51,
   "id": "457f0702",
   "metadata": {},
   "outputs": [],
   "source": [
    "# select tiles that intersect the sel_bounds\n",
    "sel_tiles = fathom_extents.loc[fathom_extents.intersects(sel_bounds)]"
   ]
  },
  {
   "cell_type": "code",
   "execution_count": 52,
   "id": "2e75e2f2",
   "metadata": {},
   "outputs": [
    {
     "data": {
      "image/svg+xml": [
       "<svg xmlns=\"http://www.w3.org/2000/svg\" xmlns:xlink=\"http://www.w3.org/1999/xlink\" width=\"100.0\" height=\"100.0\" viewBox=\"31.679861111111105 -17.319861111111113 4.640000000000011 8.640000000000004\" preserveAspectRatio=\"xMinYMin meet\"><g transform=\"matrix(1,0,0,-1,0,-25.99972222222222)\"><g><path fill-rule=\"evenodd\" fill=\"#66cc99\" stroke=\"#555555\" stroke-width=\"0.1728000000000001\" opacity=\"0.6\" d=\"M 34.99986111111111,-16.999861111111112 L 33.99986111111111,-16.999861111111112 L 33.99986111111111,-15.999861111111114 L 34.99986111111111,-15.999861111111114 L 34.999861111111116,-15.999861111111114 L 35.999861111111116,-15.999861111111114 L 35.999861111111116,-16.999861111111112 L 34.999861111111116,-16.999861111111112 L 34.99986111111111,-16.999861111111112 z\" /><path fill-rule=\"evenodd\" fill=\"#66cc99\" stroke=\"#555555\" stroke-width=\"0.1728000000000001\" opacity=\"0.6\" d=\"M 31.999861111111105,-12.999861111111112 L 31.999861111111105,-12.99986111111111 L 31.999861111111105,-11.99986111111111 L 32.9998611111111,-11.99986111111111 L 32.9998611111111,-10.999861111111112 L 32.9998611111111,-10.99986111111111 L 32.9998611111111,-9.99986111111111 L 33.9998611111111,-9.99986111111111 L 33.9998611111111,-10.99986111111111 L 33.9998611111111,-10.999861111111112 L 33.9998611111111,-11.99986111111111 L 33.9998611111111,-11.999861111111112 L 33.9998611111111,-12.99986111111111 L 33.9998611111111,-12.999861111111112 L 33.9998611111111,-13.99986111111111 L 33.9998611111111,-13.999861111111112 L 33.9998611111111,-14.999861111111112 L 32.9998611111111,-14.999861111111112 L 32.9998611111111,-13.999861111111112 L 31.999861111111105,-13.999861111111112 L 31.999861111111105,-12.999861111111112 z\" /><path fill-rule=\"evenodd\" fill=\"#66cc99\" stroke=\"#555555\" stroke-width=\"0.1728000000000001\" opacity=\"0.6\" d=\"M 33.99986111111111,-10.99986111111111 L 33.99986111111111,-9.99986111111111 L 34.999861111111116,-9.99986111111111 L 34.999861111111116,-10.99986111111111 L 34.999861111111116,-10.999861111111112 L 34.999861111111116,-11.99986111111111 L 34.999861111111116,-11.999861111111112 L 34.999861111111116,-12.99986111111111 L 35.999861111111116,-12.99986111111111 L 35.999861111111116,-13.99986111111111 L 35.999861111111116,-13.999861111111112 L 35.999861111111116,-14.99986111111111 L 35.999861111111116,-14.999861111111112 L 35.999861111111116,-15.999861111111112 L 34.999861111111116,-15.999861111111112 L 34.99986111111111,-15.999861111111112 L 33.99986111111111,-15.999861111111112 L 33.99986111111111,-14.999861111111112 L 33.99986111111111,-14.99986111111111 L 33.99986111111111,-13.999861111111112 L 33.99986111111111,-13.99986111111111 L 33.99986111111111,-12.999861111111112 L 33.99986111111111,-12.99986111111111 L 33.99986111111111,-11.999861111111112 L 33.99986111111111,-11.99986111111111 L 33.99986111111111,-10.999861111111112 L 33.99986111111111,-10.99986111111111 z\" /><path fill-rule=\"evenodd\" fill=\"#66cc99\" stroke=\"#555555\" stroke-width=\"0.1728000000000001\" opacity=\"0.6\" d=\"M 32.9998611111111,-9.999861111111109 L 31.999861111111105,-9.999861111111109 L 31.999861111111105,-8.999861111111109 L 32.9998611111111,-8.999861111111109 L 32.99986111111111,-8.999861111111109 L 33.9998611111111,-8.999861111111109 L 33.9998611111111,-9.999861111111109 L 32.99986111111111,-9.999861111111109 L 32.9998611111111,-9.999861111111109 z\" /><path fill-rule=\"evenodd\" fill=\"#66cc99\" stroke=\"#555555\" stroke-width=\"0.1728000000000001\" opacity=\"0.6\" d=\"M 33.99986111111111,-9.999861111111109 L 33.99986111111111,-8.999861111111109 L 34.999861111111116,-8.999861111111109 L 34.999861111111116,-9.999861111111109 L 33.99986111111111,-9.999861111111109 z\" /></g></g></svg>"
      ],
      "text/plain": [
       "<shapely.geometry.multipolygon.MultiPolygon at 0x7f0724cb8e20>"
      ]
     },
     "execution_count": 52,
     "metadata": {},
     "output_type": "execute_result"
    }
   ],
   "source": [
    "sel_tiles.unary_union"
   ]
  },
  {
   "cell_type": "code",
   "execution_count": 54,
   "id": "1a75fa42",
   "metadata": {},
   "outputs": [
    {
     "data": {
      "text/plain": [
       "(21, 4)"
      ]
     },
     "execution_count": 54,
     "metadata": {},
     "output_type": "execute_result"
    }
   ],
   "source": [
    "sel_tiles.shape"
   ]
  },
  {
   "cell_type": "markdown",
   "id": "87d26b8e",
   "metadata": {},
   "source": [
    "# Select flooding layer"
   ]
  },
  {
   "cell_type": "code",
   "execution_count": 55,
   "id": "64821e28",
   "metadata": {
    "scrolled": true
   },
   "outputs": [
    {
     "name": "stdout",
     "output_type": "stream",
     "text": [
      "Error downloading s10e034.tif for GLOBAL-1ARCSEC-NW_OFFSET-1in1000-COASTAL-DEFENDED-DEPTH-2020-PERCENTILE50-v3.0\n",
      "Error downloading s10e032.tif for GLOBAL-1ARCSEC-NW_OFFSET-1in1000-COASTAL-DEFENDED-DEPTH-2020-PERCENTILE50-v3.0\n",
      "Error downloading s10e033.tif for GLOBAL-1ARCSEC-NW_OFFSET-1in1000-COASTAL-DEFENDED-DEPTH-2020-PERCENTILE50-v3.0\n",
      "Error downloading s11e034.tif for GLOBAL-1ARCSEC-NW_OFFSET-1in1000-COASTAL-DEFENDED-DEPTH-2020-PERCENTILE50-v3.0\n",
      "Error downloading s11e033.tif for GLOBAL-1ARCSEC-NW_OFFSET-1in1000-COASTAL-DEFENDED-DEPTH-2020-PERCENTILE50-v3.0\n",
      "Error downloading s12e034.tif for GLOBAL-1ARCSEC-NW_OFFSET-1in1000-COASTAL-DEFENDED-DEPTH-2020-PERCENTILE50-v3.0\n",
      "Error downloading s12e033.tif for GLOBAL-1ARCSEC-NW_OFFSET-1in1000-COASTAL-DEFENDED-DEPTH-2020-PERCENTILE50-v3.0\n",
      "Error downloading s13e033.tif for GLOBAL-1ARCSEC-NW_OFFSET-1in1000-COASTAL-DEFENDED-DEPTH-2020-PERCENTILE50-v3.0\n",
      "Error downloading s13e034.tif for GLOBAL-1ARCSEC-NW_OFFSET-1in1000-COASTAL-DEFENDED-DEPTH-2020-PERCENTILE50-v3.0\n",
      "Error downloading s13e032.tif for GLOBAL-1ARCSEC-NW_OFFSET-1in1000-COASTAL-DEFENDED-DEPTH-2020-PERCENTILE50-v3.0\n",
      "Error downloading s14e032.tif for GLOBAL-1ARCSEC-NW_OFFSET-1in1000-COASTAL-DEFENDED-DEPTH-2020-PERCENTILE50-v3.0\n",
      "Error downloading s14e033.tif for GLOBAL-1ARCSEC-NW_OFFSET-1in1000-COASTAL-DEFENDED-DEPTH-2020-PERCENTILE50-v3.0\n",
      "Error downloading s14e035.tif for GLOBAL-1ARCSEC-NW_OFFSET-1in1000-COASTAL-DEFENDED-DEPTH-2020-PERCENTILE50-v3.0\n",
      "Error downloading s14e034.tif for GLOBAL-1ARCSEC-NW_OFFSET-1in1000-COASTAL-DEFENDED-DEPTH-2020-PERCENTILE50-v3.0\n",
      "Error downloading s15e035.tif for GLOBAL-1ARCSEC-NW_OFFSET-1in1000-COASTAL-DEFENDED-DEPTH-2020-PERCENTILE50-v3.0\n",
      "Error downloading s15e033.tif for GLOBAL-1ARCSEC-NW_OFFSET-1in1000-COASTAL-DEFENDED-DEPTH-2020-PERCENTILE50-v3.0\n",
      "Error downloading s15e034.tif for GLOBAL-1ARCSEC-NW_OFFSET-1in1000-COASTAL-DEFENDED-DEPTH-2020-PERCENTILE50-v3.0\n",
      "Error downloading s16e035.tif for GLOBAL-1ARCSEC-NW_OFFSET-1in1000-COASTAL-DEFENDED-DEPTH-2020-PERCENTILE50-v3.0\n",
      "Error downloading s16e034.tif for GLOBAL-1ARCSEC-NW_OFFSET-1in1000-COASTAL-DEFENDED-DEPTH-2020-PERCENTILE50-v3.0\n",
      "Error downloading s17e035.tif for GLOBAL-1ARCSEC-NW_OFFSET-1in1000-COASTAL-DEFENDED-DEPTH-2020-PERCENTILE50-v3.0\n",
      "Error downloading s17e034.tif for GLOBAL-1ARCSEC-NW_OFFSET-1in1000-COASTAL-DEFENDED-DEPTH-2020-PERCENTILE50-v3.0\n"
     ]
    }
   ],
   "source": [
    "### TODO - this section add projections options\n",
    "return_period = '1000'\n",
    "defended = 'DEFENDED'\n",
    "\n",
    "coastal_folder = f'GLOBAL-1ARCSEC-NW_OFFSET-1in{return_period}-COASTAL-{defended}-DEPTH-2020-PERCENTILE50-v3.0'\n",
    "fluvial_folder = f'GLOBAL-1ARCSEC-NW_OFFSET-1in{return_period}-FLUVIAL-{defended}-DEPTH-2020-PERCENTILE50-v3.0'\n",
    "pluvial_folder = f'GLOBAL-1ARCSEC-NW_OFFSET-1in{return_period}-PLUVIAL-{defended}-DEPTH-2020-PERCENTILE50-v3.0'\n",
    "\n",
    "download_folder = '/home/wb411133/temp/FATHOM/TESTING_Download_Malawi'\n",
    "for c_folder in [coastal_folder, fluvial_folder, pluvial_folder]:\n",
    "    out_folder = os.path.join(download_folder, c_folder)\n",
    "    try:\n",
    "        os.makedirs(out_folder)\n",
    "    except:\n",
    "        pass\n",
    "\n",
    "for idx, row in sel_tiles.iterrows():        \n",
    "    tiff = f'{row[\"ID\"]}.tif'\n",
    "    for c_folder in [coastal_folder, fluvial_folder, pluvial_folder]:\n",
    "        try:\n",
    "            s3_downloader.download_file(s3_bucket, \n",
    "                     os.path.join(s3_prefix, c_folder, tiff), \n",
    "                     os.path.join(download_folder, c_folder, tiff))\n",
    "        except:\n",
    "            print(f'Error downloading {tiff} for {c_folder}')\n",
    "    "
   ]
  },
  {
   "cell_type": "code",
   "execution_count": null,
   "id": "9ca04504",
   "metadata": {},
   "outputs": [],
   "source": []
  }
 ],
 "metadata": {
  "kernelspec": {
   "display_name": "Earth Engine",
   "language": "python",
   "name": "ee"
  },
  "language_info": {
   "codemirror_mode": {
    "name": "ipython",
    "version": 3
   },
   "file_extension": ".py",
   "mimetype": "text/x-python",
   "name": "python",
   "nbconvert_exporter": "python",
   "pygments_lexer": "ipython3",
   "version": "3.9.4"
  }
 },
 "nbformat": 4,
 "nbformat_minor": 5
}
