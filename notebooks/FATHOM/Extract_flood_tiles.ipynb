{
 "cells": [
  {
   "cell_type": "code",
   "execution_count": 1,
   "id": "2706b863",
   "metadata": {},
   "outputs": [
    {
     "name": "stderr",
     "output_type": "stream",
     "text": [
      "/home/wb411133/.conda/envs/ee/lib/python3.9/site-packages/geopandas/_compat.py:106: UserWarning: The Shapely GEOS version (3.9.1-CAPI-1.14.2) is incompatible with the GEOS version PyGEOS was compiled with (3.10.4-CAPI-1.16.2). Conversions between both will be slow.\n",
      "  warnings.warn(\n"
     ]
    }
   ],
   "source": [
    "import sys, os, boto3\n",
    "import rasterio\n",
    "\n",
    "import geopandas as gpd\n",
    "import pandas as pd\n",
    "\n",
    "from tqdm.notebook import tqdm\n",
    "from shapely.geometry import box\n",
    "\n",
    "sys.path.insert(0,\"/home/wb411133/Code/gostrocks/src\")\n",
    "\n",
    "import GOSTRocks.rasterMisc as rMisc\n",
    "import GOSTRocks.dataMisc as dataMisc\n",
    "import GOSTRocks.mapMisc as mapMisc"
   ]
  },
  {
   "cell_type": "code",
   "execution_count": 28,
   "id": "34d9ddb3",
   "metadata": {},
   "outputs": [],
   "source": [
    "s3_bucket = 'wbg-geography01'\n",
    "s3_prefix = 'FATHOM/v2023/'\n",
    "\n",
    "s3 = boto3.resource('s3')\n",
    "s3_downloader = boto3.client('s3')"
   ]
  },
  {
   "cell_type": "code",
   "execution_count": 3,
   "id": "136c4ff2",
   "metadata": {},
   "outputs": [],
   "source": [
    "fathom_tile_extents = 's3://wbg-geography01/FATHOM/v2023_support_files/fathom_tile_extents.geojson'\n",
    "fathom_extents = gpd.read_file(fathom_tile_extents)"
   ]
  },
  {
   "cell_type": "code",
   "execution_count": 40,
   "id": "4b96cc44",
   "metadata": {},
   "outputs": [],
   "source": [
    "# define extent by iso3 code\n",
    "sel_iso3 = 'GHA'\n",
    "world_filepath = gpd.datasets.get_path('naturalearth_lowres')\n",
    "world = gpd.read_file(world_filepath)\n",
    "sel_bounds = world.loc[world['iso_a3'] == sel_iso3].unary_union"
   ]
  },
  {
   "cell_type": "code",
   "execution_count": 46,
   "id": "96d5cef2",
   "metadata": {},
   "outputs": [],
   "source": [
    "# Define extent by bounding box [minx, miny, maxx, maxy]\n",
    "bbox = [176.058746,-10.791870,179.871353,-5.642500]\n",
    "sel_bounds = box(*bbox)"
   ]
  },
  {
   "cell_type": "code",
   "execution_count": 47,
   "id": "74cf6f5f",
   "metadata": {},
   "outputs": [],
   "source": [
    "# select tiles that intersect the sel_bounds\n",
    "sel_tiles = fathom_extents.loc[fathom_extents.intersects(sel_bounds)]"
   ]
  },
  {
   "cell_type": "code",
   "execution_count": 48,
   "id": "0af79833",
   "metadata": {},
   "outputs": [
    {
     "data": {
      "image/svg+xml": [
       "<svg xmlns=\"http://www.w3.org/2000/svg\" xmlns:xlink=\"http://www.w3.org/1999/xlink\" width=\"100.0\" height=\"100.0\" viewBox=\"175.7598611111111 -11.239861111111113 4.480000000000047 6.48\" preserveAspectRatio=\"xMinYMin meet\"><g transform=\"matrix(1,0,0,-1,0,-15.999722222222225)\"><g><path fill-rule=\"evenodd\" fill=\"#66cc99\" stroke=\"#555555\" stroke-width=\"0.12960000000000002\" opacity=\"0.6\" d=\"M 178.9998611111111,-6.999861111111112 L 178.99986111111113,-6.999861111111112 L 179.99986111111113,-6.999861111111112 L 179.99986111111113,-7.99986111111111 L 179.99986111111113,-7.999861111111111 L 179.99986111111113,-8.999861111111109 L 179.99986111111113,-8.99986111111111 L 179.99986111111113,-9.999861111111109 L 178.99986111111113,-9.999861111111109 L 178.9998611111111,-9.999861111111109 L 177.9998611111111,-9.999861111111109 L 177.9998611111111,-8.99986111111111 L 177.9998611111111,-8.999861111111109 L 177.9998611111111,-7.999861111111111 L 176.99986111111113,-7.999861111111111 L 176.9998611111111,-7.999861111111111 L 175.9998611111111,-7.999861111111111 L 175.9998611111111,-6.999861111111112 L 176.9998611111111,-6.999861111111112 L 176.99986111111113,-6.999861111111112 L 177.9998611111111,-6.999861111111112 L 177.99986111111113,-6.999861111111112 L 178.9998611111111,-6.999861111111112 z\" /><path fill-rule=\"evenodd\" fill=\"#66cc99\" stroke=\"#555555\" stroke-width=\"0.12960000000000002\" opacity=\"0.6\" d=\"M 176.99986111111113,-5.999861111111112 L 177.9998611111111,-5.999861111111112 L 177.99986111111113,-5.999861111111112 L 178.9998611111111,-5.999861111111112 L 178.99986111111113,-5.999861111111112 L 179.99986111111113,-5.999861111111112 L 179.99986111111113,-6.999861111111111 L 178.99986111111113,-6.999861111111111 L 178.9998611111111,-6.999861111111111 L 177.99986111111113,-6.999861111111111 L 177.9998611111111,-6.999861111111111 L 176.99986111111113,-6.999861111111111 L 176.9998611111111,-6.999861111111111 L 175.9998611111111,-6.999861111111111 L 175.9998611111111,-5.999861111111112 L 176.9998611111111,-5.999861111111112 L 176.99986111111113,-5.999861111111112 z\" /><path fill-rule=\"evenodd\" fill=\"#66cc99\" stroke=\"#555555\" stroke-width=\"0.12960000000000002\" opacity=\"0.6\" d=\"M 176.99986111111113,-5.999861111111111 L 176.9998611111111,-5.999861111111111 L 175.9998611111111,-5.999861111111111 L 175.9998611111111,-4.999861111111112 L 176.9998611111111,-4.999861111111112 L 176.99986111111113,-4.999861111111112 L 177.99986111111113,-4.999861111111112 L 177.99986111111113,-5.999861111111111 L 176.99986111111113,-5.999861111111111 z\" /><path fill-rule=\"evenodd\" fill=\"#66cc99\" stroke=\"#555555\" stroke-width=\"0.12960000000000002\" opacity=\"0.6\" d=\"M 178.99986111111113,-10.999861111111112 L 178.9998611111111,-10.999861111111112 L 177.9998611111111,-10.999861111111112 L 177.9998611111111,-9.99986111111111 L 178.9998611111111,-9.99986111111111 L 178.99986111111113,-9.99986111111111 L 179.99986111111113,-9.99986111111111 L 179.99986111111113,-10.999861111111112 L 178.99986111111113,-10.999861111111112 z\" /></g></g></svg>"
      ],
      "text/plain": [
       "<shapely.geometry.multipolygon.MultiPolygon at 0x7f0724bd2130>"
      ]
     },
     "execution_count": 48,
     "metadata": {},
     "output_type": "execute_result"
    }
   ],
   "source": [
    "sel_tiles.unary_union"
   ]
  },
  {
   "cell_type": "markdown",
   "id": "aed8d90c",
   "metadata": {},
   "source": [
    "# Select flooding layer"
   ]
  },
  {
   "cell_type": "code",
   "execution_count": 49,
   "id": "6bd21f17",
   "metadata": {
    "scrolled": true
   },
   "outputs": [
    {
     "name": "stdout",
     "output_type": "stream",
     "text": [
      "Error downloading s06e177.tif for GLOBAL-1ARCSEC-NW_OFFSET-1in1000-COASTAL-DEFENDED-DEPTH-2020-PERCENTILE50-v3.0\n",
      "Error downloading s07e179.tif for GLOBAL-1ARCSEC-NW_OFFSET-1in1000-COASTAL-DEFENDED-DEPTH-2020-PERCENTILE50-v3.0\n",
      "Error downloading s07e178.tif for GLOBAL-1ARCSEC-NW_OFFSET-1in1000-COASTAL-DEFENDED-DEPTH-2020-PERCENTILE50-v3.0\n",
      "Error downloading s08e176.tif for GLOBAL-1ARCSEC-NW_OFFSET-1in1000-COASTAL-DEFENDED-DEPTH-2020-PERCENTILE50-v3.0\n",
      "Error downloading s08e179.tif for GLOBAL-1ARCSEC-NW_OFFSET-1in1000-COASTAL-DEFENDED-DEPTH-2020-PERCENTILE50-v3.0\n",
      "Error downloading s10e178.tif for GLOBAL-1ARCSEC-NW_OFFSET-1in1000-COASTAL-DEFENDED-DEPTH-2020-PERCENTILE50-v3.0\n",
      "Error downloading s11e178.tif for GLOBAL-1ARCSEC-NW_OFFSET-1in1000-COASTAL-DEFENDED-DEPTH-2020-PERCENTILE50-v3.0\n",
      "Error downloading s11e179.tif for GLOBAL-1ARCSEC-NW_OFFSET-1in1000-COASTAL-DEFENDED-DEPTH-2020-PERCENTILE50-v3.0\n"
     ]
    }
   ],
   "source": [
    "### TODO - this section add projections options\n",
    "return_period = '1000'\n",
    "defended = 'DEFENDED'\n",
    "\n",
    "coastal_folder = f'GLOBAL-1ARCSEC-NW_OFFSET-1in{return_period}-COASTAL-{defended}-DEPTH-2020-PERCENTILE50-v3.0'\n",
    "fluvial_folder = f'GLOBAL-1ARCSEC-NW_OFFSET-1in{return_period}-FLUVIAL-{defended}-DEPTH-2020-PERCENTILE50-v3.0'\n",
    "pluvial_folder = f'GLOBAL-1ARCSEC-NW_OFFSET-1in{return_period}-PLUVIAL-{defended}-DEPTH-2020-PERCENTILE50-v3.0'\n",
    "\n",
    "download_folder = '/home/wb411133/temp/FATHOM/TESTING_Download_Tuvalu'\n",
    "for c_folder in [coastal_folder, fluvial_folder, pluvial_folder]:\n",
    "    out_folder = os.path.join(download_folder, c_folder)\n",
    "    try:\n",
    "        os.makedirs(out_folder)\n",
    "    except:\n",
    "        pass\n",
    "\n",
    "for idx, row in sel_tiles.iterrows():        \n",
    "    tiff = f'{row[\"ID\"]}.tif'\n",
    "    for c_folder in [coastal_folder, fluvial_folder, pluvial_folder]:\n",
    "        try:\n",
    "            s3_downloader.download_file(s3_bucket, \n",
    "                     os.path.join(s3_prefix, c_folder, tiff), \n",
    "                     os.path.join(download_folder, c_folder, tiff))\n",
    "        except:\n",
    "            print(f'Error downloading {tiff} for {c_folder}')\n",
    "    "
   ]
  }
 ],
 "metadata": {
  "kernelspec": {
   "display_name": "Earth Engine",
   "language": "python",
   "name": "ee"
  },
  "language_info": {
   "codemirror_mode": {
    "name": "ipython",
    "version": 3
   },
   "file_extension": ".py",
   "mimetype": "text/x-python",
   "name": "python",
   "nbconvert_exporter": "python",
   "pygments_lexer": "ipython3",
   "version": "3.9.4"
  }
 },
 "nbformat": 4,
 "nbformat_minor": 5
}
